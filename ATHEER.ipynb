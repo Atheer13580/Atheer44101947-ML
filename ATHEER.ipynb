{
  "nbformat": 4,
  "nbformat_minor": 0,
  "metadata": {
    "colab": {
      "provenance": []
    },
    "kernelspec": {
      "name": "python3",
      "display_name": "Python 3"
    },
    "language_info": {
      "name": "python"
    }
  },
  "cells": [
    {
      "cell_type": "code",
      "execution_count": 18,
      "metadata": {
        "id": "fv9Si6lf-MCr",
        "colab": {
          "base_uri": "https://localhost:8080/"
        },
        "outputId": "51e5a9a8-28bc-4960-d8ac-05b0479a49e2"
      },
      "outputs": [
        {
          "output_type": "stream",
          "name": "stdout",
          "text": [
            "Requirement already satisfied: tensorflow in /usr/local/lib/python3.11/dist-packages (2.18.0)\n",
            "Requirement already satisfied: absl-py>=1.0.0 in /usr/local/lib/python3.11/dist-packages (from tensorflow) (1.4.0)\n",
            "Requirement already satisfied: astunparse>=1.6.0 in /usr/local/lib/python3.11/dist-packages (from tensorflow) (1.6.3)\n",
            "Requirement already satisfied: flatbuffers>=24.3.25 in /usr/local/lib/python3.11/dist-packages (from tensorflow) (25.2.10)\n",
            "Requirement already satisfied: gast!=0.5.0,!=0.5.1,!=0.5.2,>=0.2.1 in /usr/local/lib/python3.11/dist-packages (from tensorflow) (0.6.0)\n",
            "Requirement already satisfied: google-pasta>=0.1.1 in /usr/local/lib/python3.11/dist-packages (from tensorflow) (0.2.0)\n",
            "Requirement already satisfied: libclang>=13.0.0 in /usr/local/lib/python3.11/dist-packages (from tensorflow) (18.1.1)\n",
            "Requirement already satisfied: opt-einsum>=2.3.2 in /usr/local/lib/python3.11/dist-packages (from tensorflow) (3.4.0)\n",
            "Requirement already satisfied: packaging in /usr/local/lib/python3.11/dist-packages (from tensorflow) (24.2)\n",
            "Requirement already satisfied: protobuf!=4.21.0,!=4.21.1,!=4.21.2,!=4.21.3,!=4.21.4,!=4.21.5,<6.0.0dev,>=3.20.3 in /usr/local/lib/python3.11/dist-packages (from tensorflow) (5.29.4)\n",
            "Requirement already satisfied: requests<3,>=2.21.0 in /usr/local/lib/python3.11/dist-packages (from tensorflow) (2.32.3)\n",
            "Requirement already satisfied: setuptools in /usr/local/lib/python3.11/dist-packages (from tensorflow) (75.2.0)\n",
            "Requirement already satisfied: six>=1.12.0 in /usr/local/lib/python3.11/dist-packages (from tensorflow) (1.17.0)\n",
            "Requirement already satisfied: termcolor>=1.1.0 in /usr/local/lib/python3.11/dist-packages (from tensorflow) (3.1.0)\n",
            "Requirement already satisfied: typing-extensions>=3.6.6 in /usr/local/lib/python3.11/dist-packages (from tensorflow) (4.13.2)\n",
            "Requirement already satisfied: wrapt>=1.11.0 in /usr/local/lib/python3.11/dist-packages (from tensorflow) (1.17.2)\n",
            "Requirement already satisfied: grpcio<2.0,>=1.24.3 in /usr/local/lib/python3.11/dist-packages (from tensorflow) (1.71.0)\n",
            "Requirement already satisfied: tensorboard<2.19,>=2.18 in /usr/local/lib/python3.11/dist-packages (from tensorflow) (2.18.0)\n",
            "Requirement already satisfied: keras>=3.5.0 in /usr/local/lib/python3.11/dist-packages (from tensorflow) (3.8.0)\n",
            "Requirement already satisfied: numpy<2.1.0,>=1.26.0 in /usr/local/lib/python3.11/dist-packages (from tensorflow) (2.0.2)\n",
            "Requirement already satisfied: h5py>=3.11.0 in /usr/local/lib/python3.11/dist-packages (from tensorflow) (3.13.0)\n",
            "Requirement already satisfied: ml-dtypes<0.5.0,>=0.4.0 in /usr/local/lib/python3.11/dist-packages (from tensorflow) (0.4.1)\n",
            "Requirement already satisfied: tensorflow-io-gcs-filesystem>=0.23.1 in /usr/local/lib/python3.11/dist-packages (from tensorflow) (0.37.1)\n",
            "Requirement already satisfied: wheel<1.0,>=0.23.0 in /usr/local/lib/python3.11/dist-packages (from astunparse>=1.6.0->tensorflow) (0.45.1)\n",
            "Requirement already satisfied: rich in /usr/local/lib/python3.11/dist-packages (from keras>=3.5.0->tensorflow) (13.9.4)\n",
            "Requirement already satisfied: namex in /usr/local/lib/python3.11/dist-packages (from keras>=3.5.0->tensorflow) (0.0.9)\n",
            "Requirement already satisfied: optree in /usr/local/lib/python3.11/dist-packages (from keras>=3.5.0->tensorflow) (0.15.0)\n",
            "Requirement already satisfied: charset-normalizer<4,>=2 in /usr/local/lib/python3.11/dist-packages (from requests<3,>=2.21.0->tensorflow) (3.4.2)\n",
            "Requirement already satisfied: idna<4,>=2.5 in /usr/local/lib/python3.11/dist-packages (from requests<3,>=2.21.0->tensorflow) (3.10)\n",
            "Requirement already satisfied: urllib3<3,>=1.21.1 in /usr/local/lib/python3.11/dist-packages (from requests<3,>=2.21.0->tensorflow) (2.4.0)\n",
            "Requirement already satisfied: certifi>=2017.4.17 in /usr/local/lib/python3.11/dist-packages (from requests<3,>=2.21.0->tensorflow) (2025.4.26)\n",
            "Requirement already satisfied: markdown>=2.6.8 in /usr/local/lib/python3.11/dist-packages (from tensorboard<2.19,>=2.18->tensorflow) (3.8)\n",
            "Requirement already satisfied: tensorboard-data-server<0.8.0,>=0.7.0 in /usr/local/lib/python3.11/dist-packages (from tensorboard<2.19,>=2.18->tensorflow) (0.7.2)\n",
            "Requirement already satisfied: werkzeug>=1.0.1 in /usr/local/lib/python3.11/dist-packages (from tensorboard<2.19,>=2.18->tensorflow) (3.1.3)\n",
            "Requirement already satisfied: MarkupSafe>=2.1.1 in /usr/local/lib/python3.11/dist-packages (from werkzeug>=1.0.1->tensorboard<2.19,>=2.18->tensorflow) (3.0.2)\n",
            "Requirement already satisfied: markdown-it-py>=2.2.0 in /usr/local/lib/python3.11/dist-packages (from rich->keras>=3.5.0->tensorflow) (3.0.0)\n",
            "Requirement already satisfied: pygments<3.0.0,>=2.13.0 in /usr/local/lib/python3.11/dist-packages (from rich->keras>=3.5.0->tensorflow) (2.19.1)\n",
            "Requirement already satisfied: mdurl~=0.1 in /usr/local/lib/python3.11/dist-packages (from markdown-it-py>=2.2.0->rich->keras>=3.5.0->tensorflow) (0.1.2)\n"
          ]
        }
      ],
      "source": [
        "# تثبيت مكتبة TensorFlow إذا لم تكن مثبتة\n",
        "!pip install tensorflow\n",
        "\n",
        "# استيراد المكتبات\n",
        "import pandas as pd\n",
        "import numpy as np\n",
        "from sklearn.model_selection import train_test_split\n",
        "from sklearn.preprocessing import StandardScaler\n",
        "from sklearn.metrics import accuracy_score, classification_report\n",
        "from sklearn.linear_model import LogisticRegression, LinearRegression\n",
        "from sklearn.tree import DecisionTreeClassifier\n",
        "from sklearn.ensemble import RandomForestClassifier\n",
        "from sklearn.naive_bayes import GaussianNB\n",
        "from sklearn.neighbors import KNeighborsClassifier\n",
        "from sklearn.svm import SVC\n",
        "from tensorflow.keras.models import Sequential\n",
        "from tensorflow.keras.layers import Dense\n"
      ]
    },
    {
      "cell_type": "code",
      "source": [
        "# قراءة البيانات من الملف\n",
        "df = pd.read_csv('/content/synthetic_dataset.csv')  # أو اسم الملف الذي رفعته\n",
        "\n",
        "# عرض أول صفوف\n",
        "df.head()\n",
        "\n",
        "# اختيار الأعمدة المهمة\n",
        "df = df[['Price', 'Discount', 'Stock']]\n",
        "\n",
        "# تحويل القيم النصية في 'Stock' إلى أرقام\n",
        "df['Stock'] = df['Stock'].replace(['In Stock', 'Out of Stock', 'Unknown'], [1, 0, -1])\n",
        "\n",
        "# حذف القيم المفقودة\n",
        "df.dropna(inplace=True)\n"
      ],
      "metadata": {
        "colab": {
          "base_uri": "https://localhost:8080/"
        },
        "id": "eLFJn8S7_v7a",
        "outputId": "92ee9af1-31bc-41ba-ccb4-8270e58caa9d"
      },
      "execution_count": 19,
      "outputs": [
        {
          "output_type": "stream",
          "name": "stderr",
          "text": [
            "<ipython-input-19-c75ecafc922b>:11: FutureWarning: Downcasting behavior in `replace` is deprecated and will be removed in a future version. To retain the old behavior, explicitly call `result.infer_objects(copy=False)`. To opt-in to the future behavior, set `pd.set_option('future.no_silent_downcasting', True)`\n",
            "  df['Stock'] = df['Stock'].replace(['In Stock', 'Out of Stock', 'Unknown'], [1, 0, -1])\n"
          ]
        }
      ]
    },
    {
      "cell_type": "code",
      "source": [
        "X = df[['Price', 'Discount']]\n",
        "y = df['Stock']\n",
        "\n",
        "# تقسيم البيانات\n",
        "X_train, X_test, y_train, y_test = train_test_split(X, y, test_size=0.2, random_state=42)\n",
        "\n",
        "# توحيد البيانات\n",
        "scaler = StandardScaler()\n",
        "X_train_scaled = scaler.fit_transform(X_train)\n",
        "X_test_scaled = scaler.transform(X_test)\n"
      ],
      "metadata": {
        "id": "OTXaHAhV_yWM"
      },
      "execution_count": 20,
      "outputs": []
    },
    {
      "cell_type": "code",
      "source": [
        "def evaluate_model(model, name):\n",
        "    y_pred = model.predict(X_test_scaled)\n",
        "    if hasattr(model, \"predict_proba\") or isinstance(model, LinearRegression):\n",
        "        y_pred = np.round(y_pred)\n",
        "    print(f\"\\n=== {name} ===\")\n",
        "    print(\"Accuracy:\", accuracy_score(y_test, y_pred))\n",
        "    print(classification_report(y_test, y_pred))\n"
      ],
      "metadata": {
        "id": "Tn5hAEZS_2hY"
      },
      "execution_count": 21,
      "outputs": []
    },
    {
      "cell_type": "code",
      "source": [
        "dt = DecisionTreeClassifier()\n",
        "dt.fit(X_train_scaled, y_train)\n",
        "evaluate_model(dt, \"Decision Tree\")\n"
      ],
      "metadata": {
        "colab": {
          "base_uri": "https://localhost:8080/"
        },
        "id": "mi_F80jIAG0D",
        "outputId": "1e499c03-9087-4f0a-b50c-06551b954849"
      },
      "execution_count": 22,
      "outputs": [
        {
          "output_type": "stream",
          "name": "stdout",
          "text": [
            "\n",
            "=== Decision Tree ===\n",
            "Accuracy: 0.5028571428571429\n",
            "              precision    recall  f1-score   support\n",
            "\n",
            "         0.0       0.50      0.46      0.48       262\n",
            "         1.0       0.50      0.55      0.52       263\n",
            "\n",
            "    accuracy                           0.50       525\n",
            "   macro avg       0.50      0.50      0.50       525\n",
            "weighted avg       0.50      0.50      0.50       525\n",
            "\n"
          ]
        }
      ]
    },
    {
      "cell_type": "code",
      "source": [
        "rf = RandomForestClassifier()\n",
        "rf.fit(X_train_scaled, y_train)\n",
        "evaluate_model(rf, \"Random Forest\")\n"
      ],
      "metadata": {
        "colab": {
          "base_uri": "https://localhost:8080/"
        },
        "id": "JsoOJD4RAJRH",
        "outputId": "7293ba9f-7d5a-4d5d-c1d7-109c5e67c316"
      },
      "execution_count": 23,
      "outputs": [
        {
          "output_type": "stream",
          "name": "stdout",
          "text": [
            "\n",
            "=== Random Forest ===\n",
            "Accuracy: 0.518095238095238\n",
            "              precision    recall  f1-score   support\n",
            "\n",
            "         0.0       0.52      0.50      0.51       262\n",
            "         1.0       0.52      0.53      0.53       263\n",
            "\n",
            "    accuracy                           0.52       525\n",
            "   macro avg       0.52      0.52      0.52       525\n",
            "weighted avg       0.52      0.52      0.52       525\n",
            "\n"
          ]
        }
      ]
    },
    {
      "cell_type": "code",
      "source": [
        "knn = KNeighborsClassifier()\n",
        "knn.fit(X_train_scaled, y_train)\n",
        "evaluate_model(knn, \"KNN\")\n"
      ],
      "metadata": {
        "colab": {
          "base_uri": "https://localhost:8080/"
        },
        "id": "9iC-K8TNAMUo",
        "outputId": "5c1487f9-475c-48fe-ead4-193180f33cc3"
      },
      "execution_count": 26,
      "outputs": [
        {
          "output_type": "stream",
          "name": "stdout",
          "text": [
            "\n",
            "=== KNN ===\n",
            "Accuracy: 0.5104761904761905\n",
            "              precision    recall  f1-score   support\n",
            "\n",
            "         0.0       0.51      0.51      0.51       262\n",
            "         1.0       0.51      0.51      0.51       263\n",
            "\n",
            "    accuracy                           0.51       525\n",
            "   macro avg       0.51      0.51      0.51       525\n",
            "weighted avg       0.51      0.51      0.51       525\n",
            "\n"
          ]
        }
      ]
    },
    {
      "cell_type": "code",
      "source": [
        "nb = GaussianNB()\n",
        "nb.fit(X_train_scaled, y_train)\n",
        "evaluate_model(nb, \"Naive Bayes\")\n"
      ],
      "metadata": {
        "colab": {
          "base_uri": "https://localhost:8080/"
        },
        "id": "Btm9N8CLAO_g",
        "outputId": "cc5f006b-c1e8-48c7-bf62-2d6f644bfe2f"
      },
      "execution_count": 27,
      "outputs": [
        {
          "output_type": "stream",
          "name": "stdout",
          "text": [
            "\n",
            "=== Naive Bayes ===\n",
            "Accuracy: 0.5028571428571429\n",
            "              precision    recall  f1-score   support\n",
            "\n",
            "         0.0       0.51      0.08      0.13       262\n",
            "         1.0       0.50      0.93      0.65       263\n",
            "\n",
            "    accuracy                           0.50       525\n",
            "   macro avg       0.51      0.50      0.39       525\n",
            "weighted avg       0.51      0.50      0.39       525\n",
            "\n"
          ]
        }
      ]
    },
    {
      "cell_type": "code",
      "source": [
        "svm = SVC()\n",
        "svm.fit(X_train_scaled, y_train)\n",
        "evaluate_model(svm, \"SVM\")\n"
      ],
      "metadata": {
        "colab": {
          "base_uri": "https://localhost:8080/"
        },
        "id": "jnEt80-NAVpF",
        "outputId": "47515a15-6bad-431a-fd67-739913cb4852"
      },
      "execution_count": 28,
      "outputs": [
        {
          "output_type": "stream",
          "name": "stdout",
          "text": [
            "\n",
            "=== SVM ===\n",
            "Accuracy: 0.5142857142857142\n",
            "              precision    recall  f1-score   support\n",
            "\n",
            "         0.0       0.53      0.25      0.34       262\n",
            "         1.0       0.51      0.78      0.62       263\n",
            "\n",
            "    accuracy                           0.51       525\n",
            "   macro avg       0.52      0.51      0.48       525\n",
            "weighted avg       0.52      0.51      0.48       525\n",
            "\n"
          ]
        }
      ]
    },
    {
      "cell_type": "code",
      "source": [
        "lr = LinearRegression()\n",
        "lr.fit(X_train_scaled, y_train)\n",
        "evaluate_model(lr, \"Linear Regression\")\n"
      ],
      "metadata": {
        "colab": {
          "base_uri": "https://localhost:8080/"
        },
        "id": "Yn_FlrcuAY28",
        "outputId": "ee0a26b3-3f7c-4589-aa96-d35b2f98f5e2"
      },
      "execution_count": 29,
      "outputs": [
        {
          "output_type": "stream",
          "name": "stdout",
          "text": [
            "\n",
            "=== Linear Regression ===\n",
            "Accuracy: 0.5009523809523809\n",
            "              precision    recall  f1-score   support\n",
            "\n",
            "         0.0       0.00      0.00      0.00       262\n",
            "         1.0       0.50      1.00      0.67       263\n",
            "\n",
            "    accuracy                           0.50       525\n",
            "   macro avg       0.25      0.50      0.33       525\n",
            "weighted avg       0.25      0.50      0.33       525\n",
            "\n"
          ]
        },
        {
          "output_type": "stream",
          "name": "stderr",
          "text": [
            "/usr/local/lib/python3.11/dist-packages/sklearn/metrics/_classification.py:1565: UndefinedMetricWarning: Precision is ill-defined and being set to 0.0 in labels with no predicted samples. Use `zero_division` parameter to control this behavior.\n",
            "  _warn_prf(average, modifier, f\"{metric.capitalize()} is\", len(result))\n",
            "/usr/local/lib/python3.11/dist-packages/sklearn/metrics/_classification.py:1565: UndefinedMetricWarning: Precision is ill-defined and being set to 0.0 in labels with no predicted samples. Use `zero_division` parameter to control this behavior.\n",
            "  _warn_prf(average, modifier, f\"{metric.capitalize()} is\", len(result))\n",
            "/usr/local/lib/python3.11/dist-packages/sklearn/metrics/_classification.py:1565: UndefinedMetricWarning: Precision is ill-defined and being set to 0.0 in labels with no predicted samples. Use `zero_division` parameter to control this behavior.\n",
            "  _warn_prf(average, modifier, f\"{metric.capitalize()} is\", len(result))\n"
          ]
        }
      ]
    },
    {
      "cell_type": "code",
      "source": [
        "ann = Sequential()\n",
        "ann.add(Dense(16, input_dim=2, activation='relu'))\n",
        "ann.add(Dense(8, activation='relu'))\n",
        "ann.add(Dense(1, activation='linear'))  # للإخراج العددي\n",
        "\n",
        "ann.compile(loss='mean_squared_error', optimizer='adam')\n",
        "ann.fit(X_train_scaled, y_train, epochs=50, verbose=0)\n",
        "\n",
        "# توقعات\n",
        "y_pred_ann = ann.predict(X_test_scaled)\n",
        "y_pred_ann = np.round(y_pred_ann).flatten()\n",
        "print(\"\\n=== ANN ===\")\n",
        "print(\"Accuracy:\", accuracy_score(y_test, y_pred_ann))\n",
        "print(classification_report(y_test, y_pred_ann))\n"
      ],
      "metadata": {
        "colab": {
          "base_uri": "https://localhost:8080/"
        },
        "id": "VWuSaz-TAbBf",
        "outputId": "f954722f-50a5-4296-ef25-f3f0728b8196"
      },
      "execution_count": 32,
      "outputs": [
        {
          "output_type": "stream",
          "name": "stderr",
          "text": [
            "/usr/local/lib/python3.11/dist-packages/keras/src/layers/core/dense.py:87: UserWarning: Do not pass an `input_shape`/`input_dim` argument to a layer. When using Sequential models, prefer using an `Input(shape)` object as the first layer in the model instead.\n",
            "  super().__init__(activity_regularizer=activity_regularizer, **kwargs)\n"
          ]
        },
        {
          "output_type": "stream",
          "name": "stdout",
          "text": [
            "\u001b[1m17/17\u001b[0m \u001b[32m━━━━━━━━━━━━━━━━━━━━\u001b[0m\u001b[37m\u001b[0m \u001b[1m0s\u001b[0m 4ms/step\n",
            "\n",
            "=== ANN ===\n",
            "Accuracy: 0.4990476190476191\n",
            "              precision    recall  f1-score   support\n",
            "\n",
            "         0.0       0.50      0.42      0.46       262\n",
            "         1.0       0.50      0.57      0.53       263\n",
            "\n",
            "    accuracy                           0.50       525\n",
            "   macro avg       0.50      0.50      0.50       525\n",
            "weighted avg       0.50      0.50      0.50       525\n",
            "\n"
          ]
        }
      ]
    },
    {
      "cell_type": "code",
      "source": [
        "import os\n",
        "\n",
        "os.makedirs('/content/Data/Result', exist_ok=True)\n",
        "\n",
        "# نموذج Linear Regression\n",
        "lr = LinearRegression()\n",
        "lr.fit(X_train_scaled, y_train)\n",
        "\n",
        "# توقعات\n",
        "y_pred_linear = np.round(lr.predict(X_test_scaled))\n",
        "\n",
        "# حفظ جميع النتائج\n",
        "pd.DataFrame(y_test).to_csv('/content/Data/Result/y_test.csv', index=False)\n",
        "pd.DataFrame(y_pred_ann).to_csv('/content/Data/Result/y_pred_ann.csv', index=False)\n",
        "pd.DataFrame(y_pred_linear.reshape(-1,1)).to_csv('/content/Data/Result/y_pred_linear.csv', index=False)\n"
      ],
      "metadata": {
        "id": "tn0Uw1TAAh-h"
      },
      "execution_count": 34,
      "outputs": []
    },
    {
      "cell_type": "code",
      "source": [
        "\n",
        "\n",
        "# 1. حفظ y_test (القيم الحقيقية)\n",
        "pd.DataFrame(y_test).to_csv('/content/Data/Result/y_test.csv', index=False)\n",
        "\n",
        "# 2. توقعات ANN (تم حسابها مسبقاً في y_pred_ann)\n",
        "pd.DataFrame(y_pred_ann).to_csv('/content/Data/Result/y_pred_ann.csv', index=False)\n",
        "\n",
        "# 3. Linear Regression\n",
        "y_pred_linear = np.round(lr.predict(X_test_scaled))\n",
        "pd.DataFrame(y_pred_linear).to_csv('/content/Data/Result/y_pred_linear.csv', index=False)\n",
        "\n",
        "# 4. Decision Tree\n",
        "y_pred_dt = dt.predict(X_test_scaled)\n",
        "pd.DataFrame(y_pred_dt).to_csv('/content/Data/Result/y_pred_dt.csv', index=False)\n",
        "\n",
        "# 5. Random Forest\n",
        "y_pred_rf = rf.predict(X_test_scaled)\n",
        "pd.DataFrame(y_pred_rf).to_csv('/content/Data/Result/y_pred_rf.csv', index=False)\n",
        "\n",
        "# 6. Naive Bayes\n",
        "y_pred_nb = nb.predict(X_test_scaled)\n",
        "pd.DataFrame(y_pred_nb).to_csv('/content/Data/Result/y_pred_nb.csv', index=False)\n",
        "\n",
        "# 7. KNN\n",
        "y_pred_knn = knn.predict(X_test_scaled)\n",
        "pd.DataFrame(y_pred_knn).to_csv('/content/Data/Result/y_pred_knn.csv', index=False)\n",
        "\n",
        "# 8. SVM\n",
        "y_pred_svm = svm.predict(X_test_scaled)\n",
        "pd.DataFrame(y_pred_svm).to_csv('/content/Data/Result/y_pred_svm.csv', index=False)\n"
      ],
      "metadata": {
        "id": "Mca6Rl9CArvx"
      },
      "execution_count": 36,
      "outputs": []
    },
    {
      "cell_type": "code",
      "source": [
        "# إنشاء جدول بالدقة لكل نموذج\n",
        "model_results = pd.DataFrame({\n",
        "    'Model': ['Decision Tree', 'Random Forest', 'KNN', 'Naive Bayes', 'SVM', 'Linear Regression', 'ANN'],\n",
        "    'Accuracy': [\n",
        "        accuracy_score(y_test, dt.predict(X_test_scaled)),\n",
        "        accuracy_score(y_test, rf.predict(X_test_scaled)),\n",
        "        accuracy_score(y_test, knn.predict(X_test_scaled)),\n",
        "        accuracy_score(y_test, nb.predict(X_test_scaled)),\n",
        "        accuracy_score(y_test, svm.predict(X_test_scaled)),\n",
        "        accuracy_score(y_test, np.round(lr.predict(X_test_scaled))),\n",
        "        accuracy_score(y_test, y_pred_ann)\n",
        "    ]\n",
        "})\n",
        "\n",
        "# عرض النتائج\n",
        "print(model_results)\n"
      ],
      "metadata": {
        "colab": {
          "base_uri": "https://localhost:8080/"
        },
        "id": "sYMHBv5aBFGX",
        "outputId": "0943058a-6606-4cec-f805-82f29d25d2a4"
      },
      "execution_count": 37,
      "outputs": [
        {
          "output_type": "stream",
          "name": "stdout",
          "text": [
            "               Model  Accuracy\n",
            "0      Decision Tree  0.502857\n",
            "1      Random Forest  0.518095\n",
            "2                KNN  0.510476\n",
            "3        Naive Bayes  0.502857\n",
            "4                SVM  0.514286\n",
            "5  Linear Regression  0.500952\n",
            "6                ANN  0.499048\n"
          ]
        }
      ]
    },
    {
      "cell_type": "code",
      "source": [
        "# حفظ النتائج إلى ملف CSV داخل مجلد Result\n",
        "model_results.to_csv('/content/Data/Result/model_accuracy_results.csv', index=False)\n"
      ],
      "metadata": {
        "id": "WZ2r63fKBOn8"
      },
      "execution_count": 38,
      "outputs": []
    },
    {
      "cell_type": "code",
      "source": [
        "# إنشاء جدول بالدقة لكل نموذج\n",
        "model_results = pd.DataFrame({\n",
        "    'Model': ['Decision Tree', 'Random Forest', 'KNN', 'Naive Bayes', 'SVM', 'Linear Regression', 'ANN'],\n",
        "    'Accuracy': [\n",
        "        accuracy_score(y_test, dt.predict(X_test_scaled)),\n",
        "        accuracy_score(y_test, rf.predict(X_test_scaled)),\n",
        "        accuracy_score(y_test, knn.predict(X_test_scaled)),\n",
        "        accuracy_score(y_test, nb.predict(X_test_scaled)),\n",
        "        accuracy_score(y_test, svm.predict(X_test_scaled)),\n",
        "        accuracy_score(y_test, np.round(lr.predict(X_test_scaled))),\n",
        "        accuracy_score(y_test, y_pred_ann)\n",
        "    ]\n",
        "})\n",
        "\n",
        "# عرض النتائج\n",
        "print(model_results)\n"
      ],
      "metadata": {
        "colab": {
          "base_uri": "https://localhost:8080/"
        },
        "id": "DFcnD8wXBUC0",
        "outputId": "24b2ed8d-dbcc-4b71-8b9b-1cae97768e82"
      },
      "execution_count": 39,
      "outputs": [
        {
          "output_type": "stream",
          "name": "stdout",
          "text": [
            "               Model  Accuracy\n",
            "0      Decision Tree  0.502857\n",
            "1      Random Forest  0.518095\n",
            "2                KNN  0.510476\n",
            "3        Naive Bayes  0.502857\n",
            "4                SVM  0.514286\n",
            "5  Linear Regression  0.500952\n",
            "6                ANN  0.499048\n"
          ]
        }
      ]
    },
    {
      "cell_type": "code",
      "source": [
        "# حفظ النتائج إلى ملف CSV داخل مجلد Result\n",
        "model_results.to_csv('/content/Data/Result/model_accuracy_results.csv', index=False)\n"
      ],
      "metadata": {
        "id": "nSkQ6NUnBXBb"
      },
      "execution_count": 40,
      "outputs": []
    },
    {
      "cell_type": "code",
      "source": [
        "import pandas as pd\n",
        "import numpy as np\n",
        "\n",
        "# توقعات لكل نموذج\n",
        "y_pred_dt = dt.predict(X_test_scaled)\n",
        "y_pred_rf = rf.predict(X_test_scaled)\n",
        "y_pred_knn = knn.predict(X_test_scaled)\n",
        "y_pred_nb = nb.predict(X_test_scaled)\n",
        "y_pred_svm = svm.predict(X_test_scaled)\n",
        "y_pred_lr = np.round(lr.predict(X_test_scaled))  # تقريب القيم المستمرة\n",
        "# توقعات الشبكة العصبية موجودة مسبقاً: y_pred_ann\n",
        "\n",
        "# حفظ التوقعات في ملفات CSV داخل مجلد Result\n",
        "pd.DataFrame(y_pred_dt).to_csv('/content/Data/Result/y_pred_dt.csv', index=False)\n",
        "pd.DataFrame(y_pred_rf).to_csv('/content/Data/Result/y_pred_rf.csv', index=False)\n",
        "pd.DataFrame(y_pred_knn).to_csv('/content/Data/Result/y_pred_knn.csv', index=False)\n",
        "pd.DataFrame(y_pred_nb).to_csv('/content/Data/Result/y_pred_nb.csv', index=False)\n",
        "pd.DataFrame(y_pred_svm).to_csv('/content/Data/Result/y_pred_svm.csv', index=False)\n",
        "pd.DataFrame(y_pred_lr).to_csv('/content/Data/Result/y_pred_lr.csv', index=False)\n",
        "pd.DataFrame(y_pred_ann).to_csv('/content/Data/Result/y_pred_ann.csv', index=False)\n",
        "\n",
        "# وأخيراً، نحفظ بيانات y_test الحقيقية للمقارنة\n",
        "pd.DataFrame(y_test).to_csv('/content/Data/Result/y_test.csv', index=False)\n"
      ],
      "metadata": {
        "id": "3wbcSc3aBdGN"
      },
      "execution_count": 41,
      "outputs": []
    },
    {
      "cell_type": "code",
      "source": [
        "import pandas as pd\n",
        "from sklearn.metrics import accuracy_score\n",
        "import numpy as np\n",
        "\n",
        "# إنشاء DataFrame لعرض دقة النماذج\n",
        "model_results = pd.DataFrame({\n",
        "    'Model': ['Decision Tree', 'Random Forest', 'KNN', 'Naive Bayes', 'SVM', 'Linear Regression', 'ANN'],\n",
        "    'Accuracy': [\n",
        "        accuracy_score(y_test, dt.predict(X_test_scaled)),\n",
        "        accuracy_score(y_test, rf.predict(X_test_scaled)),\n",
        "        accuracy_score(y_test, knn.predict(X_test_scaled)),\n",
        "        accuracy_score(y_test, nb.predict(X_test_scaled)),\n",
        "        accuracy_score(y_test, svm.predict(X_test_scaled)),\n",
        "        accuracy_score(y_test, np.round(lr.predict(X_test_scaled))),\n",
        "        accuracy_score(y_test, y_pred_ann)\n",
        "    ]\n",
        "})\n",
        "\n",
        "# عرض النتائج\n",
        "print(model_results)\n"
      ],
      "metadata": {
        "colab": {
          "base_uri": "https://localhost:8080/"
        },
        "id": "uqRv7u_CBlxp",
        "outputId": "575cc8ad-e4e1-46a2-cce6-16b1e74d78b8"
      },
      "execution_count": 42,
      "outputs": [
        {
          "output_type": "stream",
          "name": "stdout",
          "text": [
            "               Model  Accuracy\n",
            "0      Decision Tree  0.502857\n",
            "1      Random Forest  0.518095\n",
            "2                KNN  0.510476\n",
            "3        Naive Bayes  0.502857\n",
            "4                SVM  0.514286\n",
            "5  Linear Regression  0.500952\n",
            "6                ANN  0.499048\n"
          ]
        }
      ]
    },
    {
      "cell_type": "code",
      "source": [
        "import matplotlib.pyplot as plt\n",
        "import seaborn as sns\n",
        "\n",
        "# ضبط حجم الرسم\n",
        "plt.figure(figsize=(10,6))\n",
        "sns.barplot(data=model_results, x='Model', y='Accuracy', palette='viridis')\n",
        "plt.title('Model Accuracy Comparison', fontsize=16)\n",
        "plt.ylabel('Accuracy')\n",
        "plt.xlabel('Model')\n",
        "plt.xticks(rotation=45)\n",
        "plt.ylim(0, 1)\n",
        "plt.grid(True)\n",
        "plt.tight_layout()\n",
        "plt.show()\n"
      ],
      "metadata": {
        "colab": {
          "base_uri": "https://localhost:8080/",
          "height": 685
        },
        "id": "kMquXslhBpJC",
        "outputId": "937e1e2c-e9d8-4aaa-ee95-05874353a8cf"
      },
      "execution_count": 43,
      "outputs": [
        {
          "output_type": "stream",
          "name": "stderr",
          "text": [
            "<ipython-input-43-95f93bcc86b3>:6: FutureWarning: \n",
            "\n",
            "Passing `palette` without assigning `hue` is deprecated and will be removed in v0.14.0. Assign the `x` variable to `hue` and set `legend=False` for the same effect.\n",
            "\n",
            "  sns.barplot(data=model_results, x='Model', y='Accuracy', palette='viridis')\n"
          ]
        },
        {
          "output_type": "display_data",
          "data": {
            "text/plain": [
              "<Figure size 1000x600 with 1 Axes>"
            ],
            "image/png": "[encoded data removed]"
          },
          "metadata": {}
        }
      ]
    },
    {
      "cell_type": "code",
      "source": [
        "plt.figure(figsize=(10,6))\n",
        "sns.barplot(data=model_results, x='Model', y='Accuracy', palette='viridis')\n",
        "plt.title('Model Accuracy Comparison', fontsize=16)\n",
        "plt.ylabel('Accuracy')\n",
        "plt.xlabel('Model')\n",
        "plt.xticks(rotation=45)\n",
        "plt.ylim(0, 1)\n",
        "plt.grid(True)\n",
        "plt.tight_layout()\n",
        "plt.savefig('/content/Data/Result/model_accuracy_plot.png')  # حفظ الصورة في مجلد النتائج\n",
        "plt.show()\n"
      ],
      "metadata": {
        "colab": {
          "base_uri": "https://localhost:8080/",
          "height": 685
        },
        "id": "_ZkqU67HBtEi",
        "outputId": "4468bd5d-71a1-48c1-cc85-c11c48344089"
      },
      "execution_count": 44,
      "outputs": [
        {
          "output_type": "stream",
          "name": "stderr",
          "text": [
            "<ipython-input-44-3bd82a29c442>:2: FutureWarning: \n",
            "\n",
            "Passing `palette` without assigning `hue` is deprecated and will be removed in v0.14.0. Assign the `x` variable to `hue` and set `legend=False` for the same effect.\n",
            "\n",
            "  sns.barplot(data=model_results, x='Model', y='Accuracy', palette='viridis')\n"
          ]
        },
        {
          "output_type": "display_data",
          "data": {
            "text/plain": [
              "<Figure size 1000x600 with 1 Axes>"
            ],
            "image/png": "[encoded data removed]"
          },
          "metadata": {}
        }
      ]
    },
    {
      "cell_type": "code",
      "source": [
        "# حفظ جدول المقارنة في ملف CSV داخل مجلد Result\n",
        "model_results.to_csv('/content/Data/Result/model_accuracy_results.csv', index=False)\n"
      ],
      "metadata": {
        "id": "237nO78zBxkC"
      },
      "execution_count": 45,
      "outputs": []
    },
    {
      "cell_type": "code",
      "source": [
        "from sklearn.metrics import classification_report\n",
        "\n",
        "# إنشاء مجلد النتائج إذا لم يكن موجوداً (احترازي)\n",
        "import os\n",
        "os.makedirs('/content/Data/Result', exist_ok=True)\n",
        "\n",
        "# قائمة النماذج والتوقعات الخاصة بها\n",
        "model_reports = {\n",
        "    \"decision_tree\": dt.predict(X_test_scaled),\n",
        "    \"random_forest\": rf.predict(X_test_scaled),\n",
        "    \"knn\": knn.predict(X_test_scaled),\n",
        "    \"naive_bayes\": nb.predict(X_test_scaled),\n",
        "    \"svm\": svm.predict(X_test_scaled),\n",
        "    \"linear_regression\": np.round(lr.predict(X_test_scaled)),\n",
        "    \"ann\": y_pred_ann  # هذا موجود مسبقًا\n",
        "}\n",
        "\n",
        "# حفظ تقارير التصنيف في ملفات .txt\n",
        "for model_name, predictions in model_reports.items():\n",
        "    report = classification_report(y_test, predictions)\n",
        "    with open(f\"/content/Data/Result/{model_name}_report.txt\", \"w\") as file:\n",
        "        file.write(report)\n"
      ],
      "metadata": {
        "colab": {
          "base_uri": "https://localhost:8080/"
        },
        "id": "9m6EtS5mCBI4",
        "outputId": "2b894d8d-b2e7-44b2-d3f9-26bda5c728a8"
      },
      "execution_count": 46,
      "outputs": [
        {
          "output_type": "stream",
          "name": "stderr",
          "text": [
            "/usr/local/lib/python3.11/dist-packages/sklearn/metrics/_classification.py:1565: UndefinedMetricWarning: Precision is ill-defined and being set to 0.0 in labels with no predicted samples. Use `zero_division` parameter to control this behavior.\n",
            "  _warn_prf(average, modifier, f\"{metric.capitalize()} is\", len(result))\n",
            "/usr/local/lib/python3.11/dist-packages/sklearn/metrics/_classification.py:1565: UndefinedMetricWarning: Precision is ill-defined and being set to 0.0 in labels with no predicted samples. Use `zero_division` parameter to control this behavior.\n",
            "  _warn_prf(average, modifier, f\"{metric.capitalize()} is\", len(result))\n",
            "/usr/local/lib/python3.11/dist-packages/sklearn/metrics/_classification.py:1565: UndefinedMetricWarning: Precision is ill-defined and being set to 0.0 in labels with no predicted samples. Use `zero_division` parameter to control this behavior.\n",
            "  _warn_prf(average, modifier, f\"{metric.capitalize()} is\", len(result))\n"
          ]
        }
      ]
    },
    {
      "cell_type": "code",
      "source": [
        "import matplotlib.pyplot as plt\n",
        "\n",
        "# قائمة النماذج والدقة الخاصة بكل نموذج (من model_results)\n",
        "models = model_results['Model']\n",
        "accuracies = model_results['Accuracy']\n",
        "\n",
        "# إعداد الرسم البياني\n",
        "plt.figure(figsize=(10, 6))\n",
        "bars = plt.bar(models, accuracies, color='skyblue')\n",
        "plt.xlabel('Model')\n",
        "plt.ylabel('Accuracy')\n",
        "plt.title('Model Accuracy Comparison')\n",
        "plt.ylim(0, 1)\n",
        "\n",
        "# إضافة القيم فوق الأعمدة\n",
        "for bar in bars:\n",
        "    yval = bar.get_height()\n",
        "    plt.text(bar.get_x() + bar.get_width()/2.0, yval + 0.01, f\"{yval:.2f}\",\n",
        "             ha='center', va='bottom')\n",
        "\n",
        "# حفظ الصورة في مجلد النتائج\n",
        "plt.tight_layout()\n",
        "plt.savefig('/content/Data/Result/model_accuracy_plot.png')\n",
        "plt.show()\n"
      ],
      "metadata": {
        "colab": {
          "base_uri": "https://localhost:8080/",
          "height": 578
        },
        "id": "BR5mH0OpCJgz",
        "outputId": "aed35df0-f18d-4efe-8474-ff072f65fa53"
      },
      "execution_count": 47,
      "outputs": [
        {
          "output_type": "display_data",
          "data": {
            "text/plain": [
              "<Figure size 1000x600 with 1 Axes>"
            ],
            "image/png": "[encoded data removed]"
          },
          "metadata": {}
        }
      ]
    },
    {
      "cell_type": "code",
      "source": [
        "# حفظ بيانات التدريب (السمات فقط)\n",
        "pd.DataFrame(X_train_scaled, columns=['Price', 'Discount']).to_csv('/content/Data/x.csv', index=False)\n",
        "\n",
        "# حفظ بيانات الاختبار (السمات فقط)\n",
        "pd.DataFrame(X_test_scaled, columns=['Price', 'Discount']).to_csv('/content/Data/x_test.csv', index=False)\n"
      ],
      "metadata": {
        "id": "1arrrLqxfsdp"
      },
      "execution_count": 48,
      "outputs": []
    },
    {
      "cell_type": "code",
      "source": [
        "# حفظ الهدف (الـ labels) للتدريب\n",
        "pd.DataFrame(y_train).to_csv('/content/Data/y.csv', index=False)\n",
        "\n",
        "# حفظ الهدف للاختبار\n",
        "pd.DataFrame(y_test).to_csv('/content/Data/y_test.csv', index=False)\n"
      ],
      "metadata": {
        "id": "i5LFFU32fwzZ"
      },
      "execution_count": 49,
      "outputs": []
    },
    {
      "cell_type": "code",
      "source": [
        "import os\n",
        "import pandas as pd\n",
        "\n",
        "# إنشاء المجلد إذا لم يكن موجود\n",
        "os.makedirs('/content/preprocessed_data', exist_ok=True)\n",
        "\n",
        "# حفظ بيانات التدريب (السمات)\n",
        "pd.DataFrame(X_train_scaled, columns=['Price', 'Discount']).to_csv('/content/preprocessed_data/x.csv', index=False)\n",
        "\n",
        "# حفظ بيانات الاختبار (السمات)\n",
        "pd.DataFrame(X_test_scaled, columns=['Price', 'Discount']).to_csv('/content/preprocessed_data/x_test.csv', index=False)\n",
        "\n",
        "# حفظ الهدف (الـ labels) للتدريب\n",
        "pd.DataFrame(y_train).to_csv('/content/preprocessed_data/y.csv', index=False)\n",
        "\n",
        "# حفظ الهدف للاختبار\n",
        "pd.DataFrame(y_test).to_csv('/content/preprocessed_data/y_test.csv', index=False)\n"
      ],
      "metadata": {
        "id": "39aJAf_ggLYd"
      },
      "execution_count": 50,
      "outputs": []
    },
    {
      "cell_type": "code",
      "source": [
        "import shutil\n",
        "\n",
        "# ضغط المجلد إلى ملف zip\n",
        "shutil.make_archive('/content/preprocessed_data', 'zip', '/content/preprocessed_data')\n"
      ],
      "metadata": {
        "colab": {
          "base_uri": "https://localhost:8080/",
          "height": 35
        },
        "id": "cGQhEwg3gnHy",
        "outputId": "d2760982-9ae6-4711-c5ed-6e49e5b5f859"
      },
      "execution_count": 51,
      "outputs": [
        {
          "output_type": "execute_result",
          "data": {
            "text/plain": [
              "'/content/preprocessed_data.zip'"
            ],
            "application/vnd.google.colaboratory.intrinsic+json": {
              "type": "string"
            }
          },
          "metadata": {},
          "execution_count": 51
        }
      ]
    },
    {
      "cell_type": "code",
      "source": [
        "import shutil\n",
        "\n",
        "# ضغط مجلد النتائج\n",
        "shutil.make_archive('/content/Data/Result', 'zip', '/content/Data/Result')\n"
      ],
      "metadata": {
        "colab": {
          "base_uri": "https://localhost:8080/",
          "height": 35
        },
        "id": "QbwsXgH5hOoK",
        "outputId": "20758826-0c81-4213-a5a1-1f6d345cb451"
      },
      "execution_count": 52,
      "outputs": [
        {
          "output_type": "execute_result",
          "data": {
            "text/plain": [
              "'/content/Data/Result.zip'"
            ],
            "application/vnd.google.colaboratory.intrinsic+json": {
              "type": "string"
            }
          },
          "metadata": {},
          "execution_count": 52
        }
      ]
    },
    {
      "cell_type": "code",
      "source": [
        "import pandas as pd\n",
        "\n",
        "# حفظ ملفات البيانات المعالجة (preprocessed data)\n",
        "pd.DataFrame(X).to_csv('/content/x.csv', index=False)\n",
        "pd.DataFrame(X_test).to_csv('/content/x_test.csv', index=False)\n",
        "pd.DataFrame(y).to_csv('/content/y.csv', index=False)\n",
        "pd.DataFrame(y_test).to_csv('/content/y_test.csv', index=False)\n",
        "\n"
      ],
      "metadata": {
        "id": "XAhdSZsHimCA"
      },
      "execution_count": 53,
      "outputs": []
    },
    {
      "cell_type": "code",
      "source": [
        "import os\n",
        "import shutil\n",
        "\n",
        "base_dir = '/content/github'\n",
        "\n",
        "# إنشاء مجلد preprocessed_data\n",
        "preprocessed_data_dir = os.path.join(base_dir, 'data', 'preprocessed_data')\n",
        "os.makedirs(preprocessed_data_dir, exist_ok=True)\n",
        "\n",
        "# نسخ الملفات\n",
        "shutil.copy('/content/x.csv', preprocessed_data_dir)\n",
        "shutil.copy('/content/x_test.csv', preprocessed_data_dir)\n",
        "shutil.copy('/content/y.csv', preprocessed_data_dir)\n",
        "shutil.copy('/content/y_test.csv', preprocessed_data_dir)\n"
      ],
      "metadata": {
        "colab": {
          "base_uri": "https://localhost:8080/",
          "height": 35
        },
        "id": "I9543t3Sk9d8",
        "outputId": "0004585b-9b35-4fdd-8427-b8377b3e057b"
      },
      "execution_count": 54,
      "outputs": [
        {
          "output_type": "execute_result",
          "data": {
            "text/plain": [
              "'/content/github/data/preprocessed_data/y_test.csv'"
            ],
            "application/vnd.google.colaboratory.intrinsic+json": {
              "type": "string"
            }
          },
          "metadata": {},
          "execution_count": 54
        }
      ]
    },
    {
      "cell_type": "code",
      "source": [
        "import pandas as pd\n",
        "\n",
        "# حفظ توقعات النماذج\n",
        "pd.DataFrame(y_pred_dt).to_csv('/content/y_pred_dt.csv', index=False)      # Decision Tree\n",
        "pd.DataFrame(y_pred_rf).to_csv('/content/y_pred_rf.csv', index=False)      # Random Forest\n",
        "pd.DataFrame(y_pred_knn).to_csv('/content/y_pred_knn.csv', index=False)    # KNN\n",
        "pd.DataFrame(y_pred_nb).to_csv('/content/y_pred_nb.csv', index=False)      # Naive Bayes\n",
        "pd.DataFrame(y_pred_svm).to_csv('/content/y_pred_svm.csv', index=False)    # SVM\n",
        "pd.DataFrame(y_pred_linear).to_csv('/content/y_pred_linear.csv', index=False)  # Linear Regression\n",
        "pd.DataFrame(y_pred_ann).to_csv('/content/y_pred_ann.csv', index=False)    # ANN\n",
        "\n"
      ],
      "metadata": {
        "id": "clBLudpelFzO"
      },
      "execution_count": 55,
      "outputs": []
    },
    {
      "cell_type": "code",
      "source": [
        "# مسار مجلد Results داخل مجلد github\n",
        "results_dir = os.path.join(base_dir, 'Results')\n",
        "os.makedirs(results_dir, exist_ok=True)\n",
        "\n",
        "# نسخ ملفات التوقعات\n",
        "model_preds = {\n",
        "    'predictions_DecisionTree.csv': '/content/y_pred_dt.csv',\n",
        "    'predictions_RandomForest.csv': '/content/y_pred_rf.csv',\n",
        "    'predictions_KNN.csv': '/content/y_pred_knn.csv',\n",
        "    'predictions_NaiveBayes.csv': '/content/y_pred_nb.csv',\n",
        "    'predictions_SVM.csv': '/content/y_pred_svm.csv',\n",
        "    'predictions_LinearRegression.csv': '/content/y_pred_linear.csv',\n",
        "    'predictions_ANN.csv': '/content/y_pred_ann.csv',\n",
        "}\n",
        "for filename, path in model_preds.items():\n",
        "    shutil.copy(path, os.path.join(results_dir, filename))\n"
      ],
      "metadata": {
        "id": "wAkIcNPKmNXO"
      },
      "execution_count": 56,
      "outputs": []
    },
    {
      "cell_type": "code",
      "source": [
        "import os\n",
        "import shutil\n",
        "\n",
        "# مسار ملف البيانات الأصلية الحالي\n",
        "source_file = './synthetic_dataset.csv'  # عدل المسار إذا مختلف\n",
        "\n",
        "# إنشاء مجلد github/original data إذا لم يكن موجوداً\n",
        "target_dir = './github/original data'\n",
        "os.makedirs(target_dir, exist_ok=True)\n",
        "\n",
        "# مسار الملف الجديد داخل المجلد\n",
        "target_file = os.path.join(target_dir, 'synthetic_dataset.csv')\n",
        "\n",
        "# نسخ الملف بدون تعديل\n",
        "shutil.copy2(source_file, target_file)\n",
        "\n",
        "print(f\"تم نسخ البيانات الأصلية إلى: {target_file}\")"
      ],
      "metadata": {
        "colab": {
          "base_uri": "https://localhost:8080/"
        },
        "id": "jtYvLHkdzDxg",
        "outputId": "88939946-b5ec-4e3f-e414-238706f62445"
      },
      "execution_count": 57,
      "outputs": [
        {
          "output_type": "stream",
          "name": "stdout",
          "text": [
            "تم نسخ البيانات الأصلية إلى: ./github/original data/synthetic_dataset.csv\n"
          ]
        }
      ]
    },
    {
      "cell_type": "code",
      "source": [
        "import shutil\n",
        "shutil.copytree('github', '/مسار/الحفظ/الذي/تريده/github')\n"
      ],
      "metadata": {
        "colab": {
          "base_uri": "https://localhost:8080/",
          "height": 35
        },
        "id": "LRKB7kMG4QoX",
        "outputId": "44efdb83-e8c3-4588-f21d-979d1deb52a8"
      },
      "execution_count": 58,
      "outputs": [
        {
          "output_type": "execute_result",
          "data": {
            "text/plain": [
              "'/مسار/الحفظ/الذي/تريده/github'"
            ],
            "application/vnd.google.colaboratory.intrinsic+json": {
              "type": "string"
            }
          },
          "metadata": {},
          "execution_count": 58
        }
      ]
    },
    {
      "cell_type": "code",
      "source": [
        "import shutil\n",
        "from google.colab import files\n",
        "\n",
        "# ضغط مجلد github إلى ملف zip باسم github_backup.zip\n",
        "shutil.make_archive('github_backup', 'zip', 'github')\n",
        "\n",
        "# تحميل الملف المضغوط إلى جهازك\n",
        "files.download('github_backup.zip')"
      ],
      "metadata": {
        "colab": {
          "base_uri": "https://localhost:8080/",
          "height": 17
        },
        "id": "IQl1Rt2J4zOD",
        "outputId": "68bb64cb-ad30-425d-c600-0cb1bae7fa8d"
      },
      "execution_count": 59,
      "outputs": [
        {
          "output_type": "display_data",
          "data": {
            "text/plain": [
              "<IPython.core.display.Javascript object>"
            ],
            "application/javascript": [
              "\n",
              "    async function download(id, filename, size) {\n",
              "      if (!google.colab.kernel.accessAllowed) {\n",
              "        return;\n",
              "      }\n",
              "      const div = document.createElement('div');\n",
              "      const label = document.createElement('label');\n",
              "      label.textContent = `Downloading \"${filename}\": `;\n",
              "      div.appendChild(label);\n",
              "      const progress = document.createElement('progress');\n",
              "      progress.max = size;\n",
              "      div.appendChild(progress);\n",
              "      document.body.appendChild(div);\n",
              "\n",
              "      const buffers = [];\n",
              "      let downloaded = 0;\n",
              "\n",
              "      const channel = await google.colab.kernel.comms.open(id);\n",
              "      // Send a message to notify the kernel that we're ready.\n",
              "      channel.send({})\n",
              "\n",
              "      for await (const message of channel.messages) {\n",
              "        // Send a message to notify the kernel that we're ready.\n",
              "        channel.send({})\n",
              "        if (message.buffers) {\n",
              "          for (const buffer of message.buffers) {\n",
              "            buffers.push(buffer);\n",
              "            downloaded += buffer.byteLength;\n",
              "            progress.value = downloaded;\n",
              "          }\n",
              "        }\n",
              "      }\n",
              "      const blob = new Blob(buffers, {type: 'application/binary'});\n",
              "      const a = document.createElement('a');\n",
              "      a.href = window.URL.createObjectURL(blob);\n",
              "      a.download = filename;\n",
              "      div.appendChild(a);\n",
              "      a.click();\n",
              "      div.remove();\n",
              "    }\n",
              "  "
            ]
          },
          "metadata": {}
        },
        {
          "output_type": "display_data",
          "data": {
            "text/plain": [
              "<IPython.core.display.Javascript object>"
            ],
            "application/javascript": [
              "download(\"download_b01ddfe0-8bee-4dca-acb7-7941ca480b0a\", \"github_backup.zip\", 62872)"
            ]
          },
          "metadata": {}
        }
      ]
    }
  ]
}